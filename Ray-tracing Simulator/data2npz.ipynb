{
 "cells": [
  {
   "cell_type": "code",
   "execution_count": 1,
   "id": "854806f0",
   "metadata": {},
   "outputs": [],
   "source": [
    "import json\n",
    "import numpy as np\n",
    "from pathlib import Path"
   ]
  },
  {
   "cell_type": "code",
   "execution_count": null,
   "id": "fe055fbc",
   "metadata": {},
   "outputs": [],
   "source": [
    "mask_folder = Path(\"dataset_multi_5mps/newBandit_npz_0.2_150_5mps\")\n",
    "mask_folder.mkdir(exist_ok=True, parents=True)\n",
    "\n",
    "for path_idx in range(41,61):\n",
    "    for idx in range(0,50):\n",
    "        \n",
    "        file_obs = \"dataset_multi_5mps/newBandit_masked_dataset_0.2_150/51_region_1_\"+str(path_idx)+\"_\"+str(idx)+\"_60s_R2_obs.json\"\n",
    "        file_mask = \"dataset_multi_5mps/newBandit_masked_dataset_0.2_150/51_region_1_\"+str(path_idx)+\"_\"+str(idx)+\"_60s_R2_masks.json\"\n",
    "        file_snr = \"dataset_multi_5mps/dataset_raw/51_region_1_\"+str(path_idx)+\"_\"+str(idx)+\"_60s_R2_snr.json\"\n",
    "        file_rate = \"dataset_multi_5mps/dataset_raw/51_region_1_\"+str(path_idx)+\"_\"+str(idx)+\"_60s_R2_rate.json\"\n",
    "        \n",
    "\n",
    "        with open(file_snr, 'r') as f:\n",
    "            snr_list = json.load(f)\n",
    "            snr_array = np.array(snr_list)\n",
    "\n",
    "        with open(file_rate, 'r') as f:\n",
    "            rate_list = json.load(f)\n",
    "            rate_array = np.array(rate_list)\n",
    "\n",
    "        with open(file_obs, 'r') as f:\n",
    "            rate_mask_list = json.load(f)\n",
    "            rate_mask_array = np.array(rate_mask_list)\n",
    "\n",
    "        with open(file_mask, 'r') as f:\n",
    "            masks_list = json.load(f)\n",
    "            masks_array = np.array(masks_list)\n",
    "\n",
    "\n",
    "        snr_mask_array = snr_array * masks_array\n",
    "\n",
    "\n",
    "        # shape (T, N)\n",
    "        np.savez(\n",
    "            \"dataset_multi_5mps/newBandit_npz_0.2_150_5mps/bandit_1_\" + str(path_idx) + \"_\"+str(idx)+\"_5mps.npz\",\n",
    "            rate_mask=rate_mask_array.astype(np.float32),  \n",
    "            snr_mask=snr_mask_array.astype(np.float32),    \n",
    "            mask=masks_array.astype(np.float32),        \n",
    "            rates=rate_array.astype(np.float32)    \n",
    "        )"
   ]
  }
 ],
 "metadata": {
  "kernelspec": {
   "display_name": "3.11.0",
   "language": "python",
   "name": "python3"
  },
  "language_info": {
   "codemirror_mode": {
    "name": "ipython",
    "version": 3
   },
   "file_extension": ".py",
   "mimetype": "text/x-python",
   "name": "python",
   "nbconvert_exporter": "python",
   "pygments_lexer": "ipython3",
   "version": "3.11.0"
  }
 },
 "nbformat": 4,
 "nbformat_minor": 5
}
